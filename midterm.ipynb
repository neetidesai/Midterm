{
 "cells": [
  {
   "cell_type": "markdown",
   "id": "0fce005f",
   "metadata": {},
   "source": [
    "## DS4400 Coding Exam\n",
    "\n",
    "This is the coding exam for DS4400. You have 100 minutes in the lecture. Please write down all the codes and in the Code chuck and written answers in the markdown chuck. Add any chuck if you need. Submit the exam as the homework, with both python and pdf file. The exam is open-book, open notes. Please raise your hand if you have any questions. "
   ]
  },
  {
   "cell_type": "markdown",
   "id": "8508c28c",
   "metadata": {},
   "source": [
    "#### Question 1: Data analysis\n",
    "In the following question, you will need to analysis a simulated data. Please answer each question below the instructions. "
   ]
  },
  {
   "cell_type": "code",
   "execution_count": 1,
   "id": "b8d3c248",
   "metadata": {},
   "outputs": [],
   "source": [
    "import numpy as np\n",
    "import pandas as pd\n",
    "\n",
    "# Set a random seed for reproducibility\n",
    "np.random.seed(4400)\n",
    "\n",
    "# Number of samples\n",
    "num_samples = 1000\n",
    "\n",
    "# Create 20 random variables\n",
    "X = pd.DataFrame()\n",
    "for i in np.arange(1, 21):\n",
    "    variable_name = f\"Var{i}\"\n",
    "    X[variable_name] = np.random.rand(1000)\n",
    "\n",
    "# Create a target variable based on some combination of the 20 variables\n",
    "y = (\n",
    "    2 * X[\"Var1\"]\n",
    "    + 0.5 * X[\"Var5\"]\n",
    "    - 1 * X[\"Var10\"]\n",
    "    + np.random.normal(0, 0.5, num_samples)  # Add some noise\n",
    ")"
   ]
  },
  {
   "cell_type": "markdown",
   "id": "a1ced033",
   "metadata": {},
   "source": [
    "1. Split the data into training and test data. The proportion of train data should be 70%. "
   ]
  },
  {
   "cell_type": "code",
   "execution_count": 2,
   "id": "0b11274f",
   "metadata": {},
   "outputs": [],
   "source": [
    "from sklearn.model_selection import train_test_split\n",
    "\n",
    "X_train, X_test, y_train, y_test = train_test_split(X,\n",
    "                            y, test_size=0.3, random_state=4400)"
   ]
  },
  {
   "cell_type": "markdown",
   "id": "01306908",
   "metadata": {},
   "source": [
    "2. Fit the model with a linear regression using all the features, report the coefficient table, intercept and MSE. "
   ]
  },
  {
   "cell_type": "code",
   "execution_count": 6,
   "id": "5171226f",
   "metadata": {},
   "outputs": [
    {
     "name": "stdout",
     "output_type": "stream",
     "text": [
      "Mean Squared Error (MSE) 0.28330490934997343\n",
      "   Feature  Coefficient Estimate\n",
      "0     Var1              2.014028\n",
      "1     Var2             -0.069955\n",
      "2     Var3             -0.118858\n",
      "3     Var4              0.014757\n",
      "4     Var5              0.425563\n",
      "5     Var6              0.022228\n",
      "6     Var7              0.050038\n",
      "7     Var8              0.097579\n",
      "8     Var9             -0.073342\n",
      "9    Var10             -1.096217\n",
      "10   Var11              0.007303\n",
      "11   Var12              0.078436\n",
      "12   Var13              0.025088\n",
      "13   Var14             -0.014747\n",
      "14   Var15             -0.051823\n",
      "15   Var16             -0.034156\n",
      "16   Var17             -0.081478\n",
      "17   Var18              0.126210\n",
      "18   Var19              0.086301\n",
      "19   Var20              0.119386\n",
      "the intercerpt is -0.023\n"
     ]
    }
   ],
   "source": [
    "from sklearn.linear_model import LinearRegression\n",
    "from sklearn.metrics import mean_squared_error\n",
    "import pandas as pd\n",
    "from pandas import DataFrame\n",
    "\n",
    "model = LinearRegression()\n",
    "model.fit(X_train, y_train)\n",
    "\n",
    "# Predict the target variable for the test set\n",
    "y_pred = model.predict(X_test)\n",
    "\n",
    "# MSE\n",
    "mse = mean_squared_error(y_test, y_pred)\n",
    "print(\"Mean Squared Error (MSE)\", mse)\n",
    "\n",
    "# coefficients and intercept\n",
    "coef_df = DataFrame(X.columns)\n",
    "coef_df.columns = ['Feature']\n",
    "coef_df[\"Coefficient Estimate\"] = pd.Series(model.coef_)\n",
    "print(coef_df)\n",
    "print(\"the intercerpt is %.3f\" %model.intercept_)"
   ]
  },
  {
   "cell_type": "markdown",
   "id": "c359fcdb",
   "metadata": {},
   "source": [
    "3. Fit the model with a polynomial regression with degree 2, report the MSE. Is it necessary to use polynomial regression in this case?"
   ]
  },
  {
   "cell_type": "code",
   "execution_count": 7,
   "id": "35b96567",
   "metadata": {},
   "outputs": [
    {
     "name": "stdout",
     "output_type": "stream",
     "text": [
      "Mean Squared Error (MSE) 0.39129598085883716\n"
     ]
    }
   ],
   "source": [
    "from sklearn.preprocessing import PolynomialFeatures\n",
    "\n",
    "\n",
    "degree = 2\n",
    "poly_features = PolynomialFeatures(degree=degree)\n",
    "X_poly = poly_features.fit_transform(X_train)\n",
    "\n",
    "# Create + fit polynomial regression model\n",
    "poly_model = LinearRegression()\n",
    "poly_model.fit(X_poly, y_train)\n",
    "\n",
    "X_poly_test = poly_features.fit_transform(X_test)\n",
    "y_poly_test = poly_model.predict(X_poly_test)\n",
    "\n",
    "mse = mean_squared_error(y_test, y_poly_test)\n",
    "\n",
    "print(\"Mean Squared Error (MSE)\", mse)\n",
    "\n",
    "# No, it is not necessary to use polynomial regression as linear regression has a lower MSE compared to\n",
    "# polynomial regression (0.2833 vs. 0.3913), indicating that linear regression better fits the data."
   ]
  },
  {
   "cell_type": "markdown",
   "id": "4612c560",
   "metadata": {},
   "source": [
    "4. Fit the model with a Lasso regression, tune the parameter for the penalty parameter $\\alpha$. Report the best $\\alpha$, MSE and which variables are left in the model in the end. "
   ]
  },
  {
   "cell_type": "code",
   "execution_count": 73,
   "id": "ecdcabe7",
   "metadata": {},
   "outputs": [
    {
     "name": "stdout",
     "output_type": "stream",
     "text": [
      "Mean Squared Error (MSE): 0.27893476514858456\n",
      "Best alpha 0.01\n",
      "\n",
      "Variables left in model:\n",
      "    Feature  Coefficient Estimate\n",
      "0     Var1              0.566406\n",
      "1     Var2             -0.012671\n",
      "2     Var3             -0.024085\n",
      "4     Var5              0.111930\n",
      "6     Var7              0.008001\n",
      "7     Var8              0.017024\n",
      "8     Var9             -0.013400\n",
      "9    Var10             -0.306822\n",
      "11   Var12              0.012300\n",
      "14   Var15             -0.006134\n",
      "15   Var16             -0.002697\n",
      "16   Var17             -0.016334\n",
      "17   Var18              0.025483\n",
      "18   Var19              0.013672\n",
      "19   Var20              0.024080\n"
     ]
    }
   ],
   "source": [
    "import numpy as np\n",
    "import pandas as pd\n",
    "from sklearn.model_selection import train_test_split\n",
    "from sklearn.linear_model import Lasso\n",
    "from sklearn.preprocessing import StandardScaler\n",
    "from sklearn.metrics import mean_squared_error\n",
    "from sklearn.model_selection import GridSearchCV\n",
    "\n",
    "# Scale the features\n",
    "scaler = StandardScaler()\n",
    "X_train_scaled = scaler.fit_transform(X_train)\n",
    "X_test_scaled = scaler.transform(X_test)\n",
    "\n",
    "# Define a range of alpha values\n",
    "alphas = [0.001, 0.01, 0.1, 1, 10, 100]\n",
    "\n",
    "# Create a parameter grid for GridSearchCV\n",
    "param_grid = {'alpha': alphas}\n",
    "\n",
    "lasso = Lasso()\n",
    "grid_search = GridSearchCV(lasso, param_grid, cv=5, \n",
    "                           scoring='neg_mean_squared_error')\n",
    "\n",
    "grid_search.fit(X_train_scaled, y_train)\n",
    "\n",
    "# Get the best alpha value\n",
    "best_alpha = grid_search.best_params_['alpha']\n",
    "\n",
    "# Fit Lasso\n",
    "alpha = best_alpha  \n",
    "lasso_model = Lasso(alpha=alpha)\n",
    "lasso_model.fit(X_train_scaled, y_train)\n",
    "\n",
    "# Predict\n",
    "y_pred = lasso_model.predict(X_test_scaled)\n",
    "\n",
    "# Calculate MSE\n",
    "mse = mean_squared_error(y_test, y_pred)\n",
    "\n",
    "# Find selected features (which variables have non-0 coefficients)\n",
    "coef_df = DataFrame(X.columns)\n",
    "coef_df.columns = ['Feature']\n",
    "coef_df[\"Coefficient Estimate\"] = pd.Series(lasso_model.coef_)\n",
    "coef_df.drop(coef_df.loc[coef_df['Coefficient Estimate']==0.000000].index, inplace=True)\n",
    "\n",
    "# Print the results\n",
    "print(\"Mean Squared Error (MSE):\", mse)\n",
    "print(\"Best alpha\", best_alpha)\n",
    "print(\"\\nVariables left in model:\\n\", coef_df)"
   ]
  },
  {
   "cell_type": "markdown",
   "id": "8e65e125",
   "metadata": {},
   "source": [
    "5. Define a new target variable $y_1$ such that $y_1$ only contains all the positive values in the $y$. Process $X$ as well. Fit the model with appropriate GLM model (not Gaussian). Report the MSE and can we compare the MSE with previous questions? Hint: it is a continous distribution. "
   ]
  },
  {
   "cell_type": "code",
   "execution_count": 74,
   "id": "c6553dce",
   "metadata": {},
   "outputs": [
    {
     "name": "stdout",
     "output_type": "stream",
     "text": [
      "MSE for gamma distribution:  0.26236130418363884\n"
     ]
    }
   ],
   "source": [
    "import numpy as np\n",
    "import pandas as pd\n",
    "import statsmodels.api as sm\n",
    "from sklearn.model_selection import train_test_split\n",
    "from sklearn.metrics import mean_squared_error\n",
    "\n",
    "# Set a random seed for reproducibility\n",
    "np.random.seed(4400)\n",
    "\n",
    "# Number of samples\n",
    "num_samples = 1000\n",
    "\n",
    "# Create 20 random variables\n",
    "X = pd.DataFrame()\n",
    "for i in np.arange(1, 21):\n",
    "    variable_name = f\"Var{i}\"\n",
    "    X[variable_name] = np.random.rand(1000)\n",
    "\n",
    "# Create a target variable based on some combination of the 20 variables\n",
    "y = (\n",
    "    2 * X[\"Var1\"]\n",
    "    + 0.5 * X[\"Var5\"]\n",
    "    - 1 * X[\"Var10\"]\n",
    "    + np.random.normal(0, 0.5, num_samples)  # Add some noise\n",
    ")\n",
    "\n",
    "\n",
    "negative_index = y.index[y < 0]\n",
    "X = X.drop(negative_index)\n",
    "y = y.drop(negative_index)\n",
    "\n",
    "\n",
    "# fit a gamma model because data is continuous and non negative\n",
    "X_train, X_test, y_train, y_test = train_test_split(X, y, test_size = 0.3, \n",
    "                                                    random_state = 4400)\n",
    "\n",
    "gamma_model = sm.GLM(y_train, X_train, family = \n",
    "                     sm.families.Gamma(link = sm.families.links.Log()))\n",
    "gamma_results = gamma_model.fit()\n",
    "y_pred_gamma = gamma_results.predict(X_test)\n",
    "mse_gamma = mean_squared_error(y_test, y_pred_gamma)\n",
    "\n",
    "print(\"MSE for gamma distribution: \", mse_gamma)\n",
    "\n",
    "# The MSE for the gamma distribution is very similar to the MSE for linear regression and lasso \n",
    "# (0.2624 vs. 0.2833 vs. 0.2789) and still significantly smaller than the MSE for polynomial \n",
    "# distribution, which was 0.3912, showing Gama model is a good fit for the positive data."
   ]
  },
  {
   "cell_type": "markdown",
   "id": "7cb1b41b",
   "metadata": {},
   "source": [
    "6. Define a new target variable $y_2$ such that $y_2$ is a binary categorical variable. If $y$ is larger than 1, then $y_2$ is \"group1\", otherwise it is \"group2\". Fit the $y_2$ and $X$ with a logistic regression. Print the summary table with .summary(), and interpret the coefficient for variable 1.  "
   ]
  },
  {
   "cell_type": "code",
   "execution_count": 75,
   "id": "d2274db8",
   "metadata": {},
   "outputs": [
    {
     "name": "stdout",
     "output_type": "stream",
     "text": [
      "Summary Table:\n",
      "                  Generalized Linear Model Regression Results                  \n",
      "==============================================================================\n",
      "Dep. Variable:                      y   No. Observations:                  700\n",
      "Model:                            GLM   Df Residuals:                      680\n",
      "Model Family:                Binomial   Df Model:                           19\n",
      "Link Function:                  Logit   Scale:                          1.0000\n",
      "Method:                          IRLS   Log-Likelihood:                -258.10\n",
      "Date:                Mon, 16 Oct 2023   Deviance:                       516.20\n",
      "Time:                        13:20:27   Pearson chi2:                     556.\n",
      "No. Iterations:                     6   Pseudo R-squ. (CS):             0.4461\n",
      "Covariance Type:            nonrobust                                         \n",
      "==============================================================================\n",
      "                 coef    std err          z      P>|z|      [0.025      0.975]\n",
      "------------------------------------------------------------------------------\n",
      "Var1           7.2567      0.567     12.799      0.000       6.145       8.368\n",
      "Var2          -0.9664      0.388     -2.490      0.013      -1.727      -0.206\n",
      "Var3          -0.8041      0.391     -2.055      0.040      -1.571      -0.037\n",
      "Var4          -0.0219      0.382     -0.057      0.954      -0.771       0.727\n",
      "Var5           1.4116      0.381      3.706      0.000       0.665       2.158\n",
      "Var6          -0.4603      0.373     -1.233      0.217      -1.192       0.271\n",
      "Var7           0.5581      0.383      1.456      0.145      -0.193       1.309\n",
      "Var8          -0.3356      0.398     -0.842      0.400      -1.117       0.445\n",
      "Var9          -0.6660      0.376     -1.771      0.077      -1.403       0.071\n",
      "Var10         -4.1833      0.459     -9.115      0.000      -5.083      -3.284\n",
      "Var11         -0.0303      0.369     -0.082      0.935      -0.753       0.693\n",
      "Var12         -1.0341      0.385     -2.688      0.007      -1.788      -0.280\n",
      "Var13         -0.7372      0.384     -1.918      0.055      -1.491       0.016\n",
      "Var14         -0.1698      0.375     -0.453      0.651      -0.905       0.565\n",
      "Var15         -0.3714      0.372     -0.999      0.318      -1.100       0.358\n",
      "Var16         -0.8353      0.383     -2.178      0.029      -1.587      -0.084\n",
      "Var17         -1.0418      0.384     -2.715      0.007      -1.794      -0.290\n",
      "Var18          0.7710      0.399      1.934      0.053      -0.011       1.553\n",
      "Var19         -0.3831      0.383     -1.001      0.317      -1.133       0.367\n",
      "Var20          0.4274      0.389      1.097      0.272      -0.336       1.191\n",
      "==============================================================================\n"
     ]
    }
   ],
   "source": [
    "import numpy as np\n",
    "import pandas as pd\n",
    "import statsmodels.api as sm\n",
    "from sklearn.model_selection import train_test_split\n",
    "from sklearn.metrics import mean_squared_error\n",
    "\n",
    "# Set a random seed for reproducibility\n",
    "np.random.seed(4400)\n",
    "\n",
    "# Number of samples\n",
    "num_samples = 1000\n",
    "\n",
    "# Create 20 random variables\n",
    "X = pd.DataFrame()\n",
    "for i in np.arange(1, 21):\n",
    "    variable_name = f\"Var{i}\"\n",
    "    X[variable_name] = np.random.rand(1000)\n",
    "\n",
    "# Create a target variable based on some combination of the 20 variables\n",
    "y = (\n",
    "    2 * X[\"Var1\"]\n",
    "    + 0.5 * X[\"Var5\"]\n",
    "    - 1 * X[\"Var10\"]\n",
    "    + np.random.normal(0, 0.5, num_samples)  # Add some noise\n",
    ")\n",
    "\n",
    "# create y2\n",
    "above_1_index = y.index[y > 1]\n",
    "below_1_index = y.index[y <= 1]\n",
    "\n",
    "y2 = (y > 1).astype(int)\n",
    "\n",
    "\n",
    "# fit logistic regression model\n",
    "X_train, X_test, y_train, y_test = train_test_split(X, y2, test_size = 0.3, \n",
    "                                                    random_state = 4400)\n",
    "\n",
    "model = sm.GLM(y_train, X_train, family = sm.families.Binomial())\n",
    "results = model.fit()\n",
    "y_pred = results.predict(X_test)\n",
    "\n",
    "print(\"Summary Table:\\n\", results.summary())\n",
    "\n",
    "# The coefficient for Var1 is 7.2567. This means with a one unit increase in Var1, there is a 7.2567 unit\n",
    "# increase in the target value. Since the coefficeint of Var1 is positive, that means there is a positive\n",
    "# relationship between Var1 and the target variable."
   ]
  },
  {
   "cell_type": "markdown",
   "id": "bc51d310",
   "metadata": {},
   "source": [
    "#### Question 2: Implement Gradient descend for Polynomial Regression\n",
    "\n",
    "Implement gradient descend method for the polynomial regression. Requirement: \n",
    "1. Write the method as a function, which is given here. Notice that it takes an input \"degree\" (and any other necessary inputs) so that we can change the degree of the polynomial. \n",
    "2. Output the cost history as well as the coefficient estimates. No need to print it or make the figures. As long as it is one of the output. \n",
    "3. Verify your function with the data in Question 1 (You may need to copy/paste and run the answer in Question 1-1 before you run the verification). No need to compare your coefficients to the ones in question 1. This step is only to make sure your functions work. You can set the degree as 2 in the verification. \n",
    "\n",
    "Hint: \n",
    "1. Don't overthinking the question. What is the difference between linear regression and polynomial regression?\n",
    "2. You may need two functions here. One for pre-processing the data, while the other one for gradient desent. You can add more if you need. Like to add another one for the cost function. \n",
    "3. When initializing the theta, think about how many coefficients you may need?"
   ]
  },
  {
   "cell_type": "code",
   "execution_count": null,
   "id": "72e26a2a-1724-45ae-8314-811e4f3a64ed",
   "metadata": {},
   "outputs": [],
   "source": []
  },
  {
   "cell_type": "code",
   "execution_count": 77,
   "id": "1aa9662f",
   "metadata": {},
   "outputs": [
    {
     "ename": "ValueError",
     "evalue": "Data must be 1-dimensional, got ndarray of shape (700, 700) instead",
     "output_type": "error",
     "traceback": [
      "\u001b[0;31m---------------------------------------------------------------------------\u001b[0m",
      "\u001b[0;31mValueError\u001b[0m                                Traceback (most recent call last)",
      "Cell \u001b[0;32mIn[77], line 62\u001b[0m\n\u001b[1;32m     59\u001b[0m \u001b[38;5;66;03m# Initialize model parameters (coefficients)\u001b[39;00m\n\u001b[1;32m     60\u001b[0m theta \u001b[38;5;241m=\u001b[39m np\u001b[38;5;241m.\u001b[39mrandom\u001b[38;5;241m.\u001b[39mrandn(X_poly\u001b[38;5;241m.\u001b[39mshape[\u001b[38;5;241m1\u001b[39m], \u001b[38;5;241m1\u001b[39m)\n\u001b[0;32m---> 62\u001b[0m g \u001b[38;5;241m=\u001b[39m \u001b[43mgradient_descent\u001b[49m\u001b[43m(\u001b[49m\u001b[43mX_poly\u001b[49m\u001b[43m,\u001b[49m\u001b[43m \u001b[49m\u001b[43my_train\u001b[49m\u001b[43m,\u001b[49m\u001b[43m \u001b[49m\u001b[43mnum_iterations\u001b[49m\u001b[43m,\u001b[49m\u001b[43m \u001b[49m\u001b[43mlearning_rate\u001b[49m\u001b[43m,\u001b[49m\u001b[43m \u001b[49m\u001b[43mdegree\u001b[49m\u001b[43m,\u001b[49m\u001b[43m \u001b[49m\u001b[43mtheta\u001b[49m\u001b[43m)\u001b[49m\n\u001b[1;32m     63\u001b[0m \u001b[38;5;28mprint\u001b[39m(g)\n",
      "Cell \u001b[0;32mIn[77], line 19\u001b[0m, in \u001b[0;36mgradient_descent\u001b[0;34m(X, y, num_iterations, learning_rate, degree, theta)\u001b[0m\n\u001b[1;32m     17\u001b[0m \u001b[38;5;28;01mfor\u001b[39;00m iteration \u001b[38;5;129;01min\u001b[39;00m \u001b[38;5;28mrange\u001b[39m(num_iterations):\n\u001b[1;32m     18\u001b[0m     predictions \u001b[38;5;241m=\u001b[39m np\u001b[38;5;241m.\u001b[39mdot(X, theta)\n\u001b[0;32m---> 19\u001b[0m     error \u001b[38;5;241m=\u001b[39m \u001b[43my\u001b[49m\u001b[43m \u001b[49m\u001b[38;5;241;43m-\u001b[39;49m\u001b[43m \u001b[49m\u001b[43mpredictions\u001b[49m\n\u001b[1;32m     20\u001b[0m     gradient \u001b[38;5;241m=\u001b[39m (\u001b[38;5;241m-\u001b[39m\u001b[38;5;241m2\u001b[39m\u001b[38;5;241m/\u001b[39mn) \u001b[38;5;241m*\u001b[39m np\u001b[38;5;241m.\u001b[39mdot(X\u001b[38;5;241m.\u001b[39mT, error)\n\u001b[1;32m     21\u001b[0m     theta \u001b[38;5;241m=\u001b[39m theta \u001b[38;5;241m+\u001b[39m learning_rate \u001b[38;5;241m*\u001b[39m gradient\n",
      "File \u001b[0;32m/Library/Frameworks/Python.framework/Versions/3.11/lib/python3.11/site-packages/pandas/core/ops/common.py:76\u001b[0m, in \u001b[0;36m_unpack_zerodim_and_defer.<locals>.new_method\u001b[0;34m(self, other)\u001b[0m\n\u001b[1;32m     72\u001b[0m             \u001b[38;5;28;01mreturn\u001b[39;00m \u001b[38;5;28mNotImplemented\u001b[39m\n\u001b[1;32m     74\u001b[0m other \u001b[38;5;241m=\u001b[39m item_from_zerodim(other)\n\u001b[0;32m---> 76\u001b[0m \u001b[38;5;28;01mreturn\u001b[39;00m \u001b[43mmethod\u001b[49m\u001b[43m(\u001b[49m\u001b[38;5;28;43mself\u001b[39;49m\u001b[43m,\u001b[49m\u001b[43m \u001b[49m\u001b[43mother\u001b[49m\u001b[43m)\u001b[49m\n",
      "File \u001b[0;32m/Library/Frameworks/Python.framework/Versions/3.11/lib/python3.11/site-packages/pandas/core/arraylike.py:194\u001b[0m, in \u001b[0;36mOpsMixin.__sub__\u001b[0;34m(self, other)\u001b[0m\n\u001b[1;32m    192\u001b[0m \u001b[38;5;129m@unpack_zerodim_and_defer\u001b[39m(\u001b[38;5;124m\"\u001b[39m\u001b[38;5;124m__sub__\u001b[39m\u001b[38;5;124m\"\u001b[39m)\n\u001b[1;32m    193\u001b[0m \u001b[38;5;28;01mdef\u001b[39;00m \u001b[38;5;21m__sub__\u001b[39m(\u001b[38;5;28mself\u001b[39m, other):\n\u001b[0;32m--> 194\u001b[0m     \u001b[38;5;28;01mreturn\u001b[39;00m \u001b[38;5;28;43mself\u001b[39;49m\u001b[38;5;241;43m.\u001b[39;49m\u001b[43m_arith_method\u001b[49m\u001b[43m(\u001b[49m\u001b[43mother\u001b[49m\u001b[43m,\u001b[49m\u001b[43m \u001b[49m\u001b[43moperator\u001b[49m\u001b[38;5;241;43m.\u001b[39;49m\u001b[43msub\u001b[49m\u001b[43m)\u001b[49m\n",
      "File \u001b[0;32m/Library/Frameworks/Python.framework/Versions/3.11/lib/python3.11/site-packages/pandas/core/series.py:5820\u001b[0m, in \u001b[0;36mSeries._arith_method\u001b[0;34m(self, other, op)\u001b[0m\n\u001b[1;32m   5818\u001b[0m \u001b[38;5;28;01mdef\u001b[39;00m \u001b[38;5;21m_arith_method\u001b[39m(\u001b[38;5;28mself\u001b[39m, other, op):\n\u001b[1;32m   5819\u001b[0m     \u001b[38;5;28mself\u001b[39m, other \u001b[38;5;241m=\u001b[39m \u001b[38;5;28mself\u001b[39m\u001b[38;5;241m.\u001b[39m_align_for_op(other)\n\u001b[0;32m-> 5820\u001b[0m     \u001b[38;5;28;01mreturn\u001b[39;00m \u001b[43mbase\u001b[49m\u001b[38;5;241;43m.\u001b[39;49m\u001b[43mIndexOpsMixin\u001b[49m\u001b[38;5;241;43m.\u001b[39;49m\u001b[43m_arith_method\u001b[49m\u001b[43m(\u001b[49m\u001b[38;5;28;43mself\u001b[39;49m\u001b[43m,\u001b[49m\u001b[43m \u001b[49m\u001b[43mother\u001b[49m\u001b[43m,\u001b[49m\u001b[43m \u001b[49m\u001b[43mop\u001b[49m\u001b[43m)\u001b[49m\n",
      "File \u001b[0;32m/Library/Frameworks/Python.framework/Versions/3.11/lib/python3.11/site-packages/pandas/core/base.py:1383\u001b[0m, in \u001b[0;36mIndexOpsMixin._arith_method\u001b[0;34m(self, other, op)\u001b[0m\n\u001b[1;32m   1380\u001b[0m \u001b[38;5;28;01mwith\u001b[39;00m np\u001b[38;5;241m.\u001b[39merrstate(\u001b[38;5;28mall\u001b[39m\u001b[38;5;241m=\u001b[39m\u001b[38;5;124m\"\u001b[39m\u001b[38;5;124mignore\u001b[39m\u001b[38;5;124m\"\u001b[39m):\n\u001b[1;32m   1381\u001b[0m     result \u001b[38;5;241m=\u001b[39m ops\u001b[38;5;241m.\u001b[39marithmetic_op(lvalues, rvalues, op)\n\u001b[0;32m-> 1383\u001b[0m \u001b[38;5;28;01mreturn\u001b[39;00m \u001b[38;5;28;43mself\u001b[39;49m\u001b[38;5;241;43m.\u001b[39;49m\u001b[43m_construct_result\u001b[49m\u001b[43m(\u001b[49m\u001b[43mresult\u001b[49m\u001b[43m,\u001b[49m\u001b[43m \u001b[49m\u001b[43mname\u001b[49m\u001b[38;5;241;43m=\u001b[39;49m\u001b[43mres_name\u001b[49m\u001b[43m)\u001b[49m\n",
      "File \u001b[0;32m/Library/Frameworks/Python.framework/Versions/3.11/lib/python3.11/site-packages/pandas/core/series.py:5916\u001b[0m, in \u001b[0;36mSeries._construct_result\u001b[0;34m(self, result, name)\u001b[0m\n\u001b[1;32m   5913\u001b[0m \u001b[38;5;66;03m# TODO: result should always be ArrayLike, but this fails for some\u001b[39;00m\n\u001b[1;32m   5914\u001b[0m \u001b[38;5;66;03m#  JSONArray tests\u001b[39;00m\n\u001b[1;32m   5915\u001b[0m dtype \u001b[38;5;241m=\u001b[39m \u001b[38;5;28mgetattr\u001b[39m(result, \u001b[38;5;124m\"\u001b[39m\u001b[38;5;124mdtype\u001b[39m\u001b[38;5;124m\"\u001b[39m, \u001b[38;5;28;01mNone\u001b[39;00m)\n\u001b[0;32m-> 5916\u001b[0m out \u001b[38;5;241m=\u001b[39m \u001b[38;5;28;43mself\u001b[39;49m\u001b[38;5;241;43m.\u001b[39;49m\u001b[43m_constructor\u001b[49m\u001b[43m(\u001b[49m\u001b[43mresult\u001b[49m\u001b[43m,\u001b[49m\u001b[43m \u001b[49m\u001b[43mindex\u001b[49m\u001b[38;5;241;43m=\u001b[39;49m\u001b[38;5;28;43mself\u001b[39;49m\u001b[38;5;241;43m.\u001b[39;49m\u001b[43mindex\u001b[49m\u001b[43m,\u001b[49m\u001b[43m \u001b[49m\u001b[43mdtype\u001b[49m\u001b[38;5;241;43m=\u001b[39;49m\u001b[43mdtype\u001b[49m\u001b[43m,\u001b[49m\u001b[43m \u001b[49m\u001b[43mcopy\u001b[49m\u001b[38;5;241;43m=\u001b[39;49m\u001b[38;5;28;43;01mFalse\u001b[39;49;00m\u001b[43m)\u001b[49m\n\u001b[1;32m   5917\u001b[0m out \u001b[38;5;241m=\u001b[39m out\u001b[38;5;241m.\u001b[39m__finalize__(\u001b[38;5;28mself\u001b[39m)\n\u001b[1;32m   5919\u001b[0m \u001b[38;5;66;03m# Set the result's name after __finalize__ is called because __finalize__\u001b[39;00m\n\u001b[1;32m   5920\u001b[0m \u001b[38;5;66;03m#  would set it back to self.name\u001b[39;00m\n",
      "File \u001b[0;32m/Library/Frameworks/Python.framework/Versions/3.11/lib/python3.11/site-packages/pandas/core/series.py:512\u001b[0m, in \u001b[0;36mSeries.__init__\u001b[0;34m(self, data, index, dtype, name, copy, fastpath)\u001b[0m\n\u001b[1;32m    510\u001b[0m         data \u001b[38;5;241m=\u001b[39m data\u001b[38;5;241m.\u001b[39mcopy()\n\u001b[1;32m    511\u001b[0m \u001b[38;5;28;01melse\u001b[39;00m:\n\u001b[0;32m--> 512\u001b[0m     data \u001b[38;5;241m=\u001b[39m \u001b[43msanitize_array\u001b[49m\u001b[43m(\u001b[49m\u001b[43mdata\u001b[49m\u001b[43m,\u001b[49m\u001b[43m \u001b[49m\u001b[43mindex\u001b[49m\u001b[43m,\u001b[49m\u001b[43m \u001b[49m\u001b[43mdtype\u001b[49m\u001b[43m,\u001b[49m\u001b[43m \u001b[49m\u001b[43mcopy\u001b[49m\u001b[43m)\u001b[49m\n\u001b[1;32m    514\u001b[0m     manager \u001b[38;5;241m=\u001b[39m get_option(\u001b[38;5;124m\"\u001b[39m\u001b[38;5;124mmode.data_manager\u001b[39m\u001b[38;5;124m\"\u001b[39m)\n\u001b[1;32m    515\u001b[0m     \u001b[38;5;28;01mif\u001b[39;00m manager \u001b[38;5;241m==\u001b[39m \u001b[38;5;124m\"\u001b[39m\u001b[38;5;124mblock\u001b[39m\u001b[38;5;124m\"\u001b[39m:\n",
      "File \u001b[0;32m/Library/Frameworks/Python.framework/Versions/3.11/lib/python3.11/site-packages/pandas/core/construction.py:636\u001b[0m, in \u001b[0;36msanitize_array\u001b[0;34m(data, index, dtype, copy, allow_2d)\u001b[0m\n\u001b[1;32m    633\u001b[0m             subarr \u001b[38;5;241m=\u001b[39m cast(np\u001b[38;5;241m.\u001b[39mndarray, subarr)\n\u001b[1;32m    634\u001b[0m             subarr \u001b[38;5;241m=\u001b[39m maybe_infer_to_datetimelike(subarr)\n\u001b[0;32m--> 636\u001b[0m subarr \u001b[38;5;241m=\u001b[39m \u001b[43m_sanitize_ndim\u001b[49m\u001b[43m(\u001b[49m\u001b[43msubarr\u001b[49m\u001b[43m,\u001b[49m\u001b[43m \u001b[49m\u001b[43mdata\u001b[49m\u001b[43m,\u001b[49m\u001b[43m \u001b[49m\u001b[43mdtype\u001b[49m\u001b[43m,\u001b[49m\u001b[43m \u001b[49m\u001b[43mindex\u001b[49m\u001b[43m,\u001b[49m\u001b[43m \u001b[49m\u001b[43mallow_2d\u001b[49m\u001b[38;5;241;43m=\u001b[39;49m\u001b[43mallow_2d\u001b[49m\u001b[43m)\u001b[49m\n\u001b[1;32m    638\u001b[0m \u001b[38;5;28;01mif\u001b[39;00m \u001b[38;5;28misinstance\u001b[39m(subarr, np\u001b[38;5;241m.\u001b[39mndarray):\n\u001b[1;32m    639\u001b[0m     \u001b[38;5;66;03m# at this point we should have dtype be None or subarr.dtype == dtype\u001b[39;00m\n\u001b[1;32m    640\u001b[0m     dtype \u001b[38;5;241m=\u001b[39m cast(np\u001b[38;5;241m.\u001b[39mdtype, dtype)\n",
      "File \u001b[0;32m/Library/Frameworks/Python.framework/Versions/3.11/lib/python3.11/site-packages/pandas/core/construction.py:695\u001b[0m, in \u001b[0;36m_sanitize_ndim\u001b[0;34m(result, data, dtype, index, allow_2d)\u001b[0m\n\u001b[1;32m    693\u001b[0m     \u001b[38;5;28;01mif\u001b[39;00m allow_2d:\n\u001b[1;32m    694\u001b[0m         \u001b[38;5;28;01mreturn\u001b[39;00m result\n\u001b[0;32m--> 695\u001b[0m     \u001b[38;5;28;01mraise\u001b[39;00m \u001b[38;5;167;01mValueError\u001b[39;00m(\n\u001b[1;32m    696\u001b[0m         \u001b[38;5;124mf\u001b[39m\u001b[38;5;124m\"\u001b[39m\u001b[38;5;124mData must be 1-dimensional, got ndarray of shape \u001b[39m\u001b[38;5;132;01m{\u001b[39;00mdata\u001b[38;5;241m.\u001b[39mshape\u001b[38;5;132;01m}\u001b[39;00m\u001b[38;5;124m instead\u001b[39m\u001b[38;5;124m\"\u001b[39m\n\u001b[1;32m    697\u001b[0m     )\n\u001b[1;32m    698\u001b[0m \u001b[38;5;28;01mif\u001b[39;00m is_object_dtype(dtype) \u001b[38;5;129;01mand\u001b[39;00m \u001b[38;5;28misinstance\u001b[39m(dtype, ExtensionDtype):\n\u001b[1;32m    699\u001b[0m     \u001b[38;5;66;03m# i.e. NumpyEADtype(\"O\")\u001b[39;00m\n\u001b[1;32m    701\u001b[0m     result \u001b[38;5;241m=\u001b[39m com\u001b[38;5;241m.\u001b[39masarray_tuplesafe(data, dtype\u001b[38;5;241m=\u001b[39mnp\u001b[38;5;241m.\u001b[39mdtype(\u001b[38;5;124m\"\u001b[39m\u001b[38;5;124mobject\u001b[39m\u001b[38;5;124m\"\u001b[39m))\n",
      "\u001b[0;31mValueError\u001b[0m: Data must be 1-dimensional, got ndarray of shape (700, 700) instead"
     ]
    }
   ],
   "source": [
    "from sklearn.preprocessing import PolynomialFeatures\n",
    "from sklearn.model_selection import train_test_split\n",
    "\n",
    "\n",
    "def poly_function(degree, X):\n",
    "    \n",
    "    poly_features = PolynomialFeatures(degree=degree)\n",
    "    X_poly = poly_features.fit_transform(X)\n",
    "    \n",
    "    return X_poly\n",
    "    \n",
    "def gradient_descent(X, y, num_iterations, learning_rate, degree, theta):\n",
    "    # gradient descent\n",
    "    n = len(y)\n",
    "    cost_history = []\n",
    "    \n",
    "    for iteration in range(num_iterations):\n",
    "        predictions = np.dot(X, theta)\n",
    "        error = y - predictions\n",
    "        gradient = (-2/n) * np.dot(X.T, error)\n",
    "        theta = theta + learning_rate * gradient\n",
    "        cost = np.mean(np.square(error))  \n",
    "        cost_history.append(cost)\n",
    "        \n",
    "    return theta, cost_history\n",
    "\n",
    "\n",
    "#Verification\n",
    "\n",
    "X_train, X_test, y_train, y_test = train_test_split(X,\n",
    "                            y, test_size=0.3, random_state=4400)\n",
    "\n",
    "learning_rate = 0.01\n",
    "num_iterations = 1000\n",
    "degree = 2\n",
    "\n",
    "X_poly = poly_function(degree, X_train)\n",
    "\n",
    "# Initialize model parameters (coefficients)\n",
    "theta = np.random.randn(X_poly.shape[1], 1)\n",
    "\n",
    "g = gradient_descent(X_poly, y_train, num_iterations, learning_rate, degree, theta)\n",
    "print(g)"
   ]
  },
  {
   "cell_type": "markdown",
   "id": "88b738e7",
   "metadata": {},
   "source": [
    "#### Question 3: Simulation study"
   ]
  },
  {
   "cell_type": "markdown",
   "id": "26af4348",
   "metadata": {},
   "source": [
    "Following is a simulation study. In the second code chuck, please correctly label the xlabel and ylabel for the plot. Also explain what this code is trying to do and what you have learned from the generated figure. \n",
    "\n",
    "Hint: in the simulation data, there are 200 observations and it is fixed for each trial. After spliting the training and testing data, each one will have 100 observations. "
   ]
  },
  {
   "cell_type": "code",
   "execution_count": 57,
   "id": "ddef77e4",
   "metadata": {},
   "outputs": [],
   "source": [
    "from sklearn.linear_model import LinearRegression\n",
    "from sklearn.metrics import mean_squared_error\n",
    "from sklearn.model_selection import train_test_split\n",
    "import matplotlib.pyplot as plt\n",
    "import pandas as pd\n",
    "import numpy as np\n",
    "\n",
    "np.random.seed(83)\n",
    "A = np.arange(5,101,1)\n",
    "B = []\n",
    "\n",
    "# for every element p in A\n",
    "for p in A:\n",
    "\n",
    "    # create DataFrame X\n",
    "    X = pd.DataFrame()\n",
    "\n",
    "    # for i from 1 to p\n",
    "    for i in np.arange(1, p+1):\n",
    "\n",
    "        # create a new variable i\n",
    "        variable_name = f\"Var{i}\"\n",
    "\n",
    "        # For variable i in X, create a random array of 200 numbers, with each number ranging from 0 to 1\n",
    "        X[variable_name] = np.random.rand(200)\n",
    "\n",
    "    # y is defined as 2 * \n",
    "    # the random array of numbers for Var1 stored in X - \n",
    "    # 0.5 * the random array of numbers for Var5 stored in X +\n",
    "    # a random array of 200 numbers with mean 0 and standard distribution 0.5\n",
    "    y = 2 * X[\"Var1\"] - 0.5 * X[\"Var5\"] + np.random.normal(0, 0.5, 200)\n",
    "\n",
    "    \n",
    "    # train test split X and y with test size = 50% of data\n",
    "    X_train, X_test, y_train, y_test = train_test_split(X, y, \n",
    "                                                        test_size=0.5, \n",
    "                                                        random_state=83)\n",
    "    # create linear regression model\n",
    "    lm = LinearRegression()\n",
    "\n",
    "    # fit linear regression model\n",
    "    lm.fit(X_train, y_train)\n",
    "\n",
    "    # predict y values\n",
    "    y_pred = lm.predict(X_test)\n",
    "\n",
    "    # find MSE\n",
    "    value = mean_squared_error(y_test, y_pred)\n",
    "\n",
    "    # append MSE to B\n",
    "    B.append(value)\n",
    "\n",
    "# see comments in function for detailed analysis of code chunk\n",
    "# Summary: for every number p in A (from 5 to 100), create dataframe X with 200 rows and p columns.\n",
    "    # so, for every iteration of outer for loop (every increase of p), the number of columns in X\n",
    "    # will increase.\n",
    "# create y by multiplying X[0] by 2, then subtracting 0.5 * x[4], and finally adding\n",
    "# a random array of 200 numbers - size of y stays the same for all values of p\n",
    "# Train test split the X, y data and create a linear regression model\n",
    "# fit the model with X_train, y_train, then predict y values\n",
    "# calculate MSE and append MSE to array B\n",
    "# plot A vs. B\n",
    "# analysis of graph: as number of columns in X increases (as p gets larger), MSE of \n",
    "# linear regression model increases"
   ]
  },
  {
   "cell_type": "code",
   "execution_count": 58,
   "id": "4654def2",
   "metadata": {},
   "outputs": [
    {
     "data": {
      "image/png": "[encoded data removed]",
      "text/plain": [
       "<Figure size 640x480 with 1 Axes>"
      ]
     },
     "metadata": {},
     "output_type": "display_data"
    }
   ],
   "source": [
    "plt.plot(A, B)\n",
    "plt.xlabel(\"Number of Columns\")\n",
    "plt.ylabel(\"MSE for Linear Regression of Data With Size 200xA\")\n",
    "plt.show()"
   ]
  },
  {
   "cell_type": "code",
   "execution_count": null,
   "id": "46e19004",
   "metadata": {},
   "outputs": [],
   "source": []
  }
 ],
 "metadata": {
  "kernelspec": {
   "display_name": "Python 3 (ipykernel)",
   "language": "python",
   "name": "python3"
  },
  "language_info": {
   "codemirror_mode": {
    "name": "ipython",
    "version": 3
   },
   "file_extension": ".py",
   "mimetype": "text/x-python",
   "name": "python",
   "nbconvert_exporter": "python",
   "pygments_lexer": "ipython3",
   "version": "3.11.5"
  }
 },
 "nbformat": 4,
 "nbformat_minor": 5
}
